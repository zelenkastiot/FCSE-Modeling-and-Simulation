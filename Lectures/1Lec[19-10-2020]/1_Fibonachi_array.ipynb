{
 "cells": [
  {
   "cell_type": "markdown",
   "metadata": {},
   "source": [
    "Фибоначиевата низа е линеарен дискретен динамички систем даден со $x_i = x_{i-1} + x_{i-2}$ со почетни услови $x_0 = 1, x_1 = 1$"
   ]
  },
  {
   "cell_type": "code",
   "execution_count": 1,
   "metadata": {
    "ExecuteTime": {
     "end_time": "2020-10-19T14:47:12.155823Z",
     "start_time": "2020-10-19T14:47:11.441991Z"
    }
   },
   "outputs": [
    {
     "data": {
      "image/png": "[encoded data removed]",
      "text/plain": [
       "<Figure size 432x288 with 1 Axes>"
      ]
     },
     "metadata": {
      "needs_background": "light"
     },
     "output_type": "display_data"
    }
   ],
   "source": [
    "import numpy as np\n",
    "import matplotlib.pyplot as plt\n",
    "\n",
    "brIteracii = 100 # kolku chekori da napravi\n",
    "\n",
    "x = np.zeros((brIteracii)) # br na edinki vi sekoj chekor gi chuva vo vektor\n",
    "\n",
    "x[0] = 1 # pocheten uslov\n",
    "x[1] = 1\n",
    "for i in range(2,brIteracii):\n",
    "    x[i] = x[i - 1] + x[i - 2]\n",
    "    \n",
    "plt.plot(range(brIteracii), x,\"bs\")\n",
    "plt.xlabel(\"chekor\")\n",
    "plt.ylabel(\"br. na zajaci\")\n",
    "plt.show()    \n"
   ]
  },
  {
   "cell_type": "markdown",
   "metadata": {},
   "source": [
    "Експоненцијалното решение подобро се прикажува ако y оската се земе во логаритамски размер"
   ]
  },
  {
   "cell_type": "code",
   "execution_count": 2,
   "metadata": {
    "ExecuteTime": {
     "end_time": "2020-10-19T14:47:14.241268Z",
     "start_time": "2020-10-19T14:47:13.489161Z"
    }
   },
   "outputs": [
    {
     "data": {
      "image/png": "[encoded data removed]",
      "text/plain": [
       "<Figure size 432x288 with 1 Axes>"
      ]
     },
     "metadata": {
      "needs_background": "light"
     },
     "output_type": "display_data"
    }
   ],
   "source": [
    "import numpy as np\n",
    "import matplotlib.pyplot as plt\n",
    "\n",
    "brIteracii = 100 # kolku chekori da napravi\n",
    "\n",
    "x = np.zeros((brIteracii)) # br na edinki vi sekoj chekor gi chuva vo vektor\n",
    "\n",
    "x[0] = 1 # pocheten uslov\n",
    "x[1] = 1\n",
    "for i in range(2,brIteracii):\n",
    "    x[i] = x[i - 1] + x[i - 2]\n",
    "    \n",
    "plt.plot(range(brIteracii), x,\"bs\")\n",
    "plt.xlabel(\"chekor\")\n",
    "plt.ylabel(\"br. na zajaci\")\n",
    "plt.yscale('log')\n",
    "plt.show()    \n"
   ]
  },
  {
   "cell_type": "markdown",
   "metadata": {},
   "source": [
    "Добиената права укажува дека решението експоненцијално расте. Споредба со теоретското решение"
   ]
  },
  {
   "cell_type": "code",
   "execution_count": 3,
   "metadata": {
    "ExecuteTime": {
     "end_time": "2020-10-19T14:47:15.972167Z",
     "start_time": "2020-10-19T14:47:15.571589Z"
    }
   },
   "outputs": [
    {
     "data": {
      "image/png": "[encoded data removed]",
      "text/plain": [
       "<Figure size 432x288 with 1 Axes>"
      ]
     },
     "metadata": {
      "needs_background": "light"
     },
     "output_type": "display_data"
    }
   ],
   "source": [
    "import numpy as np\n",
    "import matplotlib.pyplot as plt\n",
    "\n",
    "brIteracii = 100 # kolku chekori da napravi\n",
    "\n",
    "x = np.zeros((brIteracii)) # br na edinki vi sekoj chekor gi chuva vo vektor\n",
    "y = np.zeros((brIteracii))\n",
    "\n",
    "x[0] = 0 # pocheten uslov\n",
    "x[1] = 1\n",
    "y[0] = 0 # pocheten uslov\n",
    "y[1] = 1\n",
    "\n",
    "for i in range(2,brIteracii):\n",
    "    x[i] = x[i - 1] + x[i - 2]\n",
    "    y[i] = (1.0 / np.sqrt(5)) * (np.power((0.5 + 0.5 * np.sqrt(5)),i) - np.power((0.5 - 0.5 * np.sqrt(5)),i))\n",
    "                                 \n",
    "\n",
    "plt.plot(range(brIteracii), x,\"bs\")\n",
    "plt.plot(range(brIteracii), y,\"ro\")                                 \n",
    "plt.xlabel(\"chekor\")\n",
    "plt.ylabel(\"br. na zajaci\")\n",
    "plt.yscale('log')\n",
    "plt.show()    \n"
   ]
  },
  {
   "cell_type": "code",
   "execution_count": 4,
   "metadata": {
    "ExecuteTime": {
     "end_time": "2020-10-19T14:47:16.532891Z",
     "start_time": "2020-10-19T14:47:16.519845Z"
    }
   },
   "outputs": [
    {
     "name": "stdout",
     "output_type": "stream",
     "text": [
      "[ 0.00000000e+00  0.00000000e+00  0.00000000e+00  0.00000000e+00\n",
      " -4.44089210e-16 -8.88178420e-16 -1.77635684e-15 -1.77635684e-15\n",
      " -3.55271368e-15 -7.10542736e-15 -1.42108547e-14 -2.84217094e-14\n",
      " -5.68434189e-14 -5.68434189e-14 -1.70530257e-13 -3.41060513e-13\n",
      " -4.54747351e-13 -9.09494702e-13 -1.81898940e-12 -2.72848411e-12\n",
      " -4.54747351e-12 -7.27595761e-12 -1.09139364e-11 -2.18278728e-11\n",
      " -3.63797881e-11 -5.82076609e-11 -1.01863407e-10 -1.74622983e-10\n",
      " -2.91038305e-10 -4.65661287e-10 -8.14907253e-10 -1.16415322e-09\n",
      " -2.32830644e-09 -3.72529030e-09 -6.51925802e-09 -1.11758709e-08\n",
      " -1.86264515e-08 -2.60770321e-08 -5.21540642e-08 -7.45058060e-08\n",
      " -1.34110451e-07 -2.38418579e-07 -3.57627869e-07 -6.55651093e-07\n",
      " -1.07288361e-06 -1.66893005e-06 -2.62260437e-06 -4.76837158e-06\n",
      " -7.62939453e-06 -1.33514404e-05 -2.09808350e-05 -3.43322754e-05\n",
      " -5.34057617e-05 -9.15527344e-05 -1.52587891e-04 -2.44140625e-04\n",
      " -4.27246094e-04 -6.71386719e-04 -1.22070312e-03 -1.83105469e-03\n",
      " -2.92968750e-03 -5.37109375e-03 -8.78906250e-03 -1.36718750e-02\n",
      " -2.14843750e-02 -3.71093750e-02 -6.25000000e-02 -9.37500000e-02\n",
      " -1.71875000e-01 -2.81250000e-01 -4.37500000e-01 -6.87500000e-01\n",
      " -1.18750000e+00 -2.00000000e+00 -3.00000000e+00 -5.25000000e+00\n",
      " -8.50000000e+00 -1.40000000e+01 -2.40000000e+01 -4.00000000e+01\n",
      " -6.00000000e+01 -1.04000000e+02 -1.76000000e+02 -2.88000000e+02\n",
      " -4.80000000e+02 -7.68000000e+02 -1.21600000e+03 -2.04800000e+03\n",
      " -3.20000000e+03 -5.37600000e+03 -9.21600000e+03 -1.43360000e+04\n",
      " -2.25280000e+04 -3.68640000e+04 -5.73440000e+04 -9.83040000e+04\n",
      " -1.63840000e+05 -2.62144000e+05 -4.25984000e+05 -6.88128000e+05]\n"
     ]
    }
   ],
   "source": [
    "print(x-y)"
   ]
  }
 ],
 "metadata": {
  "kernelspec": {
   "display_name": "Python 3",
   "language": "python",
   "name": "python3"
  },
  "language_info": {
   "codemirror_mode": {
    "name": "ipython",
    "version": 3
   },
   "file_extension": ".py",
   "mimetype": "text/x-python",
   "name": "python",
   "nbconvert_exporter": "python",
   "pygments_lexer": "ipython3",
   "version": "3.7.9"
  },
  "latex_envs": {
   "LaTeX_envs_menu_present": true,
   "autoclose": false,
   "autocomplete": true,
   "bibliofile": "biblio.bib",
   "cite_by": "apalike",
   "current_citInitial": 1,
   "eqLabelWithNumbers": true,
   "eqNumInitial": 1,
   "hotkeys": {
    "equation": "Ctrl-E",
    "itemize": "Ctrl-I"
   },
   "labels_anchors": false,
   "latex_user_defs": false,
   "report_style_numbering": false,
   "user_envs_cfg": false
  },
  "varInspector": {
   "cols": {
    "lenName": 16,
    "lenType": 16,
    "lenVar": 40
   },
   "kernels_config": {
    "python": {
     "delete_cmd_postfix": "",
     "delete_cmd_prefix": "del ",
     "library": "var_list.py",
     "varRefreshCmd": "print(var_dic_list())"
    },
    "r": {
     "delete_cmd_postfix": ") ",
     "delete_cmd_prefix": "rm(",
     "library": "var_list.r",
     "varRefreshCmd": "cat(var_dic_list()) "
    }
   },
   "types_to_exclude": [
    "module",
    "function",
    "builtin_function_or_method",
    "instance",
    "_Feature"
   ],
   "window_display": false
  }
 },
 "nbformat": 4,
 "nbformat_minor": 4
}
